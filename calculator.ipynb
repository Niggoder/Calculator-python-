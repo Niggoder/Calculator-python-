{
 "cells": [
  {
   "cell_type": "code",
   "execution_count": 46,
   "id": "b5c78c1a-3f96-4f92-96f4-66e9d31e0d2d",
   "metadata": {},
   "outputs": [
    {
     "name": "stdout",
     "output_type": "stream",
     "text": [
      "Enter your choice on what function you want to perform, enter the serial no. dispalyed in front of operation to use it.\n",
      "1.Addition(press 1 to perform addtion)\n",
      "2.Subtraction (press 2 to perform subtraction)\n",
      "3.Multiplication(press 3 to perform multiplication)\n",
      "4.Division(press 4 to perform division)\n"
     ]
    },
    {
     "name": "stdin",
     "output_type": "stream",
     "text": [
      "Enter your choice here (1/2/3/4):  4\n",
      "Enter the first number:  5\n",
      "Enter the second number:  0\n"
     ]
    },
    {
     "name": "stdout",
     "output_type": "stream",
     "text": [
      "Result: error :division by zero is not possible\n"
     ]
    },
    {
     "name": "stdin",
     "output_type": "stream",
     "text": [
      "Do you want to perform another calculation? (yes/no):  yes\n"
     ]
    },
    {
     "name": "stdout",
     "output_type": "stream",
     "text": [
      "Enter your choice on what function you want to perform, enter the serial no. dispalyed in front of operation to use it.\n",
      "1.Addition(press 1 to perform addtion)\n",
      "2.Subtraction (press 2 to perform subtraction)\n",
      "3.Multiplication(press 3 to perform multiplication)\n",
      "4.Division(press 4 to perform division)\n"
     ]
    },
    {
     "name": "stdin",
     "output_type": "stream",
     "text": [
      "Enter your choice here (1/2/3/4):  1\n",
      "Enter the first number:  2\n",
      "Enter the second number:  2\n"
     ]
    },
    {
     "name": "stdout",
     "output_type": "stream",
     "text": [
      "Result: 4.0\n"
     ]
    },
    {
     "name": "stdin",
     "output_type": "stream",
     "text": [
      "Do you want to perform another calculation? (yes/no):  no\n"
     ]
    }
   ],
   "source": [
    "def addition(x,y):\n",
    "    return x+y\n",
    "\n",
    "def subtraction(x,y):\n",
    "    return x-y\n",
    "\n",
    "def multiplication(x,y):\n",
    "    return x*y\n",
    "\n",
    "def division(x,y):\n",
    "     if(y==0):\n",
    "        return\"error :division by zero is not possible\"\n",
    "     return x/y   \n",
    "\n",
    "def menu():\n",
    "    print(\"Enter your choice on what function you want to perform, enter the serial no. dispalyed in front of operation to use it.\")\n",
    "    print(\"1.Addition(press 1 to perform addtion)\")\n",
    "    print(\"2.Subtraction (press 2 to perform subtraction)\")\n",
    "    print(\"3.Multiplication(press 3 to perform multiplication)\")\n",
    "    print(\"4.Division(press 4 to perform division)\")\n",
    "\n",
    "def userInput():\n",
    "    try:\n",
    "        choice = int(input(\"Enter your choice here (1/2/3/4): \"))\n",
    "        if choice not in [1, 2, 3, 4]:\n",
    "            print(\"Invalid choice. Please select 1, 2, 3, or 4.\")\n",
    "            return None, None, None\n",
    "        x = float(input(\"Enter the first number: \"))\n",
    "        y = float(input(\"Enter the second number: \"))\n",
    "        return choice, x, y\n",
    "    except ValueError:\n",
    "        print(\"Invalid input. Please enter numbers only.\")\n",
    "        return None, None, None\n",
    "\n",
    "def calculator():\n",
    "   while True:\n",
    "    menu()\n",
    "    choice, num1, num2 = userInput()\n",
    "    if choice is None:\n",
    "        continue\n",
    "\n",
    "    if choice == 1:\n",
    "        print(f\"Result: {addition(num1, num2)}\")\n",
    "    elif choice == 2:\n",
    "        print(f\"Result: {subtraction(num1, num2)}\")\n",
    "    elif choice == 3:\n",
    "        print(f\"Result: {multiplication(num1, num2)}\")\n",
    "    elif choice == 4:\n",
    "        print(f\"Result: {division(num1, num2)}\")\n",
    "\n",
    "    again = input(\"Do you want to perform another calculation? (yes/no): \").lower()\n",
    "    if again != \"yes\":\n",
    "        break\n",
    "\n",
    "calculator()\n",
    "\n",
    "\n",
    "    "
   ]
  },
  {
   "cell_type": "code",
   "execution_count": null,
   "id": "98436eee-1d90-44aa-ab3b-b20d730bad68",
   "metadata": {},
   "outputs": [],
   "source": []
  }
 ],
 "metadata": {
  "kernelspec": {
   "display_name": "Python [conda env:base] *",
   "language": "python",
   "name": "conda-base-py"
  },
  "language_info": {
   "codemirror_mode": {
    "name": "ipython",
    "version": 3
   },
   "file_extension": ".py",
   "mimetype": "text/x-python",
   "name": "python",
   "nbconvert_exporter": "python",
   "pygments_lexer": "ipython3",
   "version": "3.12.7"
  }
 },
 "nbformat": 4,
 "nbformat_minor": 5
}
